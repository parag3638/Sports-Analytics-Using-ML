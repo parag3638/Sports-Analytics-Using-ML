{
 "cells": [
  {
   "cell_type": "code",
   "execution_count": 1,
   "id": "8c06610f",
   "metadata": {},
   "outputs": [],
   "source": [
    "import warnings\n",
    "warnings.filterwarnings('ignore')\n",
    "\n",
    "import pandas as pd\n",
    "import numpy as np\n",
    "\n",
    "import matplotlib.pyplot as plt\n",
    "\n",
    "pd.set_option('display.max_rows',None)\n",
    "pd.set_option('display.max_columns',None)\n",
    "pd.set_option('display.expand_frame_repr',False)\n",
    "pd.set_option('max_colwidth',-1)"
   ]
  },
  {
   "cell_type": "code",
   "execution_count": 2,
   "id": "6e8e7691",
   "metadata": {},
   "outputs": [],
   "source": [
    "df = pd.read_csv('IPL_ball_by_ball_updated.csv')"
   ]
  },
  {
   "cell_type": "code",
   "execution_count": 3,
   "id": "7a149294",
   "metadata": {},
   "outputs": [
    {
     "data": {
      "text/html": [
       "<div>\n",
       "<style scoped>\n",
       "    .dataframe tbody tr th:only-of-type {\n",
       "        vertical-align: middle;\n",
       "    }\n",
       "\n",
       "    .dataframe tbody tr th {\n",
       "        vertical-align: top;\n",
       "    }\n",
       "\n",
       "    .dataframe thead th {\n",
       "        text-align: right;\n",
       "    }\n",
       "</style>\n",
       "<table border=\"1\" class=\"dataframe\">\n",
       "  <thead>\n",
       "    <tr style=\"text-align: right;\">\n",
       "      <th></th>\n",
       "      <th>match_id</th>\n",
       "      <th>season</th>\n",
       "      <th>start_date</th>\n",
       "      <th>venue</th>\n",
       "      <th>innings</th>\n",
       "      <th>ball</th>\n",
       "      <th>batting_team</th>\n",
       "      <th>bowling_team</th>\n",
       "      <th>striker</th>\n",
       "      <th>non_striker</th>\n",
       "      <th>bowler</th>\n",
       "      <th>runs_off_bat</th>\n",
       "      <th>extras</th>\n",
       "      <th>wides</th>\n",
       "      <th>noballs</th>\n",
       "      <th>byes</th>\n",
       "      <th>legbyes</th>\n",
       "      <th>penalty</th>\n",
       "      <th>wicket_type</th>\n",
       "      <th>player_dismissed</th>\n",
       "      <th>other_wicket_type</th>\n",
       "      <th>other_player_dismissed</th>\n",
       "    </tr>\n",
       "  </thead>\n",
       "  <tbody>\n",
       "    <tr>\n",
       "      <th>0</th>\n",
       "      <td>335982</td>\n",
       "      <td>2008</td>\n",
       "      <td>2008-04-18</td>\n",
       "      <td>M Chinnaswamy Stadium</td>\n",
       "      <td>2</td>\n",
       "      <td>6.8</td>\n",
       "      <td>Royal Challengers Bangalore</td>\n",
       "      <td>Kolkata Knight Riders</td>\n",
       "      <td>MV Boucher</td>\n",
       "      <td>CL White</td>\n",
       "      <td>AB Agarkar</td>\n",
       "      <td>4</td>\n",
       "      <td>0</td>\n",
       "      <td>NaN</td>\n",
       "      <td>NaN</td>\n",
       "      <td>NaN</td>\n",
       "      <td>NaN</td>\n",
       "      <td>NaN</td>\n",
       "      <td>NaN</td>\n",
       "      <td>NaN</td>\n",
       "      <td>NaN</td>\n",
       "      <td>NaN</td>\n",
       "    </tr>\n",
       "  </tbody>\n",
       "</table>\n",
       "</div>"
      ],
      "text/plain": [
       "   match_id  season  start_date                  venue  innings  ball                 batting_team           bowling_team     striker non_striker      bowler  runs_off_bat  extras  wides  noballs  byes  legbyes  penalty wicket_type player_dismissed  other_wicket_type  other_player_dismissed\n",
       "0  335982    2008    2008-04-18  M Chinnaswamy Stadium  2        6.8   Royal Challengers Bangalore  Kolkata Knight Riders  MV Boucher  CL White    AB Agarkar  4             0      NaN    NaN      NaN   NaN      NaN       NaN         NaN             NaN                NaN                    "
      ]
     },
     "execution_count": 3,
     "metadata": {},
     "output_type": "execute_result"
    }
   ],
   "source": [
    "df.head(1)"
   ]
  },
  {
   "cell_type": "code",
   "execution_count": 4,
   "id": "69606d20",
   "metadata": {},
   "outputs": [
    {
     "data": {
      "text/plain": [
       "array([2, 1, 4, 3, 6, 5], dtype=int64)"
      ]
     },
     "execution_count": 4,
     "metadata": {},
     "output_type": "execute_result"
    }
   ],
   "source": [
    "df.innings.unique()"
   ]
  },
  {
   "cell_type": "code",
   "execution_count": 5,
   "id": "cfc63f01",
   "metadata": {},
   "outputs": [],
   "source": [
    "df = df[(df.innings==1)|(df.innings==2)]"
   ]
  },
  {
   "cell_type": "code",
   "execution_count": 6,
   "id": "30ff84a8",
   "metadata": {},
   "outputs": [
    {
     "data": {
      "text/plain": [
       "array([2, 1], dtype=int64)"
      ]
     },
     "execution_count": 6,
     "metadata": {},
     "output_type": "execute_result"
    }
   ],
   "source": [
    "df.innings.unique()"
   ]
  },
  {
   "cell_type": "code",
   "execution_count": 7,
   "id": "f23e32d7",
   "metadata": {},
   "outputs": [
    {
     "data": {
      "text/plain": [
       "array(['Kolkata Knight Riders', 'Royal Challengers Bangalore',\n",
       "       'Delhi Daredevils', 'Chennai Super Kings', 'Rajasthan Royals',\n",
       "       'Kings XI Punjab', 'Mumbai Indians', 'Deccan Chargers',\n",
       "       'Kochi Tuskers Kerala', 'Pune Warriors', 'Sunrisers Hyderabad',\n",
       "       'Rising Pune Supergiants', 'Gujarat Lions',\n",
       "       'Rising Pune Supergiant', 'Delhi Capitals', 'Punjab Kings'],\n",
       "      dtype=object)"
      ]
     },
     "execution_count": 7,
     "metadata": {},
     "output_type": "execute_result"
    }
   ],
   "source": [
    "df.bowling_team.unique()"
   ]
  },
  {
   "cell_type": "code",
   "execution_count": 8,
   "id": "50b4649b",
   "metadata": {},
   "outputs": [
    {
     "data": {
      "text/plain": [
       "array(['JH Kallis', 'P Kumar', 'AA Noffke', 'Z Khan', 'SB Joshi',\n",
       "       'CL White', 'B Akhil', 'R Vinay Kumar', 'A Kumble', 'DW Steyn',\n",
       "       'V Kohli', 'Abdur Razzak', 'JD Ryder', 'LRPL Taylor',\n",
       "       'KP Pietersen', 'Pankaj Singh', 'KP Appanna', 'RE van der Merwe',\n",
       "       'D du Preez', 'A Mithun', 'S Sriram', 'ND Doshi', 'AUK Pathan',\n",
       "       'DP Nannes', 'TM Dilshan', 'DL Vettori', 'S Aravind', 'R Ninan',\n",
       "       'JJ van der Wath', 'CH Gayle', 'J Syed Mohammad', 'CK Langeveldt',\n",
       "       'AA Kazi', 'AB McDonald', 'HV Patel', 'M Muralitharan',\n",
       "       'RR Bhatkal', 'P Parameswaran', 'JD Unadkat', 'M Kartik',\n",
       "       'DT Christian', 'MC Henriques', 'RP Singh', 'R Rampaul',\n",
       "       'VR Aaron', 'AB Dinda', 'YS Chahal', 'Yuvraj Singh', 'MA Starc',\n",
       "       'JA Morkel', 'AN Ahmed', 'S Rana', 'SB Jakati', 'DJG Sammy',\n",
       "       'SA Abbott', 'D Wiese', 'Iqbal Abdulla', 'SR Watson',\n",
       "       'Parvez Rasool', 'AF Milne', 'KW Richardson', 'STR Binny',\n",
       "       'T Shamsi', 'CJ Jordan', 'Sachin Baby', 'TS Mills', 'TM Head',\n",
       "       'A Choudhary', 'B Stanlake', 'P Negi', 'S Badree', 'Avesh Khan',\n",
       "       'Washington Sundar', 'K Khejroliya', 'CR Woakes', 'UT Yadav',\n",
       "       'CJ Anderson', 'Mohammed Siraj', 'TG Southee', 'M Ashwin',\n",
       "       'C de Grandhomme', 'MM Ali', 'NA Saini', 'S Dube', 'P Ray Barman',\n",
       "       'MP Stoinis', 'A Zampa', 'I Udana', 'CH Morris', 'Shahbaz Ahmed',\n",
       "       'KA Jamieson', 'GJ Maxwell', 'DR Sams', 'PWH de Silva',\n",
       "       'GHS Garton'], dtype=object)"
      ]
     },
     "execution_count": 8,
     "metadata": {},
     "output_type": "execute_result"
    }
   ],
   "source": [
    "df[df.bowling_team=='Royal Challengers Bangalore']['bowler'].unique()"
   ]
  },
  {
   "cell_type": "code",
   "execution_count": 9,
   "id": "ea71d43e",
   "metadata": {},
   "outputs": [
    {
     "data": {
      "text/plain": [
       "array(['RV Uthappa', 'AM Nayar', 'PR Shah', 'SM Pollock',\n",
       "       'Harbhajan Singh', 'ST Jayasuriya', 'DJ Thornely', 'L Ronchi',\n",
       "       'DJ Bravo', 'MA Khote', 'A Nehra', 'SS Tiwary', 'DS Kulkarni',\n",
       "       'AM Rahane', 'MK Pandey', 'YV Takawale', 'RR Raje', 'SR Tendulkar',\n",
       "       'DR Smith', 'SD Chitnis', 'VS Yeligati', 'CRD Fernando',\n",
       "       'JP Duminy', 'S Dhawan', 'Z Khan', 'GR Napier', 'SL Malinga',\n",
       "       'C Nanda', 'Mohammad Ashraful', 'AT Rayudu', 'R McLaren',\n",
       "       'R Sathish', 'AP Tare', 'KA Pollard', 'AN Ahmed', 'C Madan',\n",
       "       'STR Binny', 'RG Sharma', 'DJ Jacobs', 'JEC Franklin', 'A Symonds',\n",
       "       'AG Murtaza', 'TL Suman', 'AC Blizzard', 'MM Patel', 'RE Levi',\n",
       "       'SA Yadav', 'KD Karthik', 'PP Ojha', 'CJ McKay', 'RP Singh',\n",
       "       'NLTC Perera', 'RJ Peterson', 'HH Gibbs', 'RT Ponting',\n",
       "       'MG Johnson', 'R Dhawan', 'GJ Maxwell', 'NM Coulter-Nile',\n",
       "       'CM Gautam', 'CJ Anderson', 'MEK Hussey', 'JJ Bumrah', 'BR Dunk',\n",
       "       'LMP Simmons', 'S Gopal', 'M de Lange', 'P Kumar', 'AJ Finch',\n",
       "       'J Suchith', 'UBT Chand', 'PA Patel', 'R Vinay Kumar', 'HH Pandya',\n",
       "       'MJ McClenaghan', 'JC Buttler', 'TG Southee', 'KH Pandya',\n",
       "       'MJ Guptill', 'N Rana', 'KV Sharma', 'Ishan Kishan', 'E Lewis',\n",
       "       'M Markande', 'BCJ Cutting', 'PJ Sangwan', 'A Dananjaya',\n",
       "       'Mustafizur Rahman', 'Yuvraj Singh', 'Q de Kock', 'Rasikh Salam',\n",
       "       'RD Chahar', 'SD Lad', 'AS Joseph', 'BB Sran', 'JL Pattinson',\n",
       "       'TA Boult', 'CA Lynn', 'M Jansen', 'J Yadav', 'JDS Neesham',\n",
       "       'Anmolpreet Singh', 'AF Milne', 'PP Chawla'], dtype=object)"
      ]
     },
     "execution_count": 9,
     "metadata": {},
     "output_type": "execute_result"
    }
   ],
   "source": [
    "df[df.batting_team=='Mumbai Indians']['striker'].unique()"
   ]
  },
  {
   "cell_type": "code",
   "execution_count": 10,
   "id": "65ae00b3",
   "metadata": {},
   "outputs": [],
   "source": [
    "req_df=df[(df.striker=='SR Tendulkar') & (df.bowler=='YS Chahal')]"
   ]
  },
  {
   "cell_type": "code",
   "execution_count": 11,
   "id": "a8b76536",
   "metadata": {},
   "outputs": [
    {
     "data": {
      "text/html": [
       "<div>\n",
       "<style scoped>\n",
       "    .dataframe tbody tr th:only-of-type {\n",
       "        vertical-align: middle;\n",
       "    }\n",
       "\n",
       "    .dataframe tbody tr th {\n",
       "        vertical-align: top;\n",
       "    }\n",
       "\n",
       "    .dataframe thead th {\n",
       "        text-align: right;\n",
       "    }\n",
       "</style>\n",
       "<table border=\"1\" class=\"dataframe\">\n",
       "  <thead>\n",
       "    <tr style=\"text-align: right;\">\n",
       "      <th></th>\n",
       "      <th>match_id</th>\n",
       "      <th>season</th>\n",
       "      <th>start_date</th>\n",
       "      <th>venue</th>\n",
       "      <th>innings</th>\n",
       "      <th>ball</th>\n",
       "      <th>batting_team</th>\n",
       "      <th>bowling_team</th>\n",
       "      <th>striker</th>\n",
       "      <th>non_striker</th>\n",
       "      <th>bowler</th>\n",
       "      <th>runs_off_bat</th>\n",
       "      <th>extras</th>\n",
       "      <th>wides</th>\n",
       "      <th>noballs</th>\n",
       "      <th>byes</th>\n",
       "      <th>legbyes</th>\n",
       "      <th>penalty</th>\n",
       "      <th>wicket_type</th>\n",
       "      <th>player_dismissed</th>\n",
       "      <th>other_wicket_type</th>\n",
       "      <th>other_player_dismissed</th>\n",
       "    </tr>\n",
       "  </thead>\n",
       "  <tbody>\n",
       "  </tbody>\n",
       "</table>\n",
       "</div>"
      ],
      "text/plain": [
       "Empty DataFrame\n",
       "Columns: [match_id, season, start_date, venue, innings, ball, batting_team, bowling_team, striker, non_striker, bowler, runs_off_bat, extras, wides, noballs, byes, legbyes, penalty, wicket_type, player_dismissed, other_wicket_type, other_player_dismissed]\n",
       "Index: []"
      ]
     },
     "execution_count": 11,
     "metadata": {},
     "output_type": "execute_result"
    }
   ],
   "source": [
    "req_df.head(5)"
   ]
  },
  {
   "cell_type": "code",
   "execution_count": 12,
   "id": "a0505bbc",
   "metadata": {},
   "outputs": [
    {
     "data": {
      "text/plain": [
       "0"
      ]
     },
     "execution_count": 12,
     "metadata": {},
     "output_type": "execute_result"
    }
   ],
   "source": [
    "sum(req_df.runs_off_bat)"
   ]
  },
  {
   "cell_type": "code",
   "execution_count": 13,
   "id": "f5967854",
   "metadata": {},
   "outputs": [
    {
     "data": {
      "text/plain": [
       "0"
      ]
     },
     "execution_count": 13,
     "metadata": {},
     "output_type": "execute_result"
    }
   ],
   "source": [
    "len(req_df)"
   ]
  },
  {
   "cell_type": "code",
   "execution_count": 14,
   "id": "f880b7b4",
   "metadata": {},
   "outputs": [
    {
     "data": {
      "text/plain": [
       "0"
      ]
     },
     "execution_count": 14,
     "metadata": {},
     "output_type": "execute_result"
    }
   ],
   "source": [
    "len(req_df[req_df.player_dismissed=='SR Tendulkar'])"
   ]
  },
  {
   "cell_type": "code",
   "execution_count": 15,
   "id": "3b1b4488",
   "metadata": {},
   "outputs": [],
   "source": [
    "#(sum(req_df.runs_off_bat)/len(req_df))*100"
   ]
  },
  {
   "cell_type": "code",
   "execution_count": 16,
   "id": "c9dd728c",
   "metadata": {},
   "outputs": [],
   "source": [
    "blee=df[df.bowler==\"YS Chahal\"]"
   ]
  },
  {
   "cell_type": "code",
   "execution_count": 17,
   "id": "479d1997",
   "metadata": {},
   "outputs": [
    {
     "data": {
      "text/html": [
       "<div>\n",
       "<style scoped>\n",
       "    .dataframe tbody tr th:only-of-type {\n",
       "        vertical-align: middle;\n",
       "    }\n",
       "\n",
       "    .dataframe tbody tr th {\n",
       "        vertical-align: top;\n",
       "    }\n",
       "\n",
       "    .dataframe thead th {\n",
       "        text-align: right;\n",
       "    }\n",
       "</style>\n",
       "<table border=\"1\" class=\"dataframe\">\n",
       "  <thead>\n",
       "    <tr style=\"text-align: right;\">\n",
       "      <th></th>\n",
       "      <th>match_id</th>\n",
       "      <th>season</th>\n",
       "      <th>start_date</th>\n",
       "      <th>venue</th>\n",
       "      <th>innings</th>\n",
       "      <th>ball</th>\n",
       "      <th>batting_team</th>\n",
       "      <th>bowling_team</th>\n",
       "      <th>striker</th>\n",
       "      <th>non_striker</th>\n",
       "      <th>bowler</th>\n",
       "      <th>runs_off_bat</th>\n",
       "      <th>extras</th>\n",
       "      <th>wides</th>\n",
       "      <th>noballs</th>\n",
       "      <th>byes</th>\n",
       "      <th>legbyes</th>\n",
       "      <th>penalty</th>\n",
       "      <th>wicket_type</th>\n",
       "      <th>player_dismissed</th>\n",
       "      <th>other_wicket_type</th>\n",
       "      <th>other_player_dismissed</th>\n",
       "    </tr>\n",
       "  </thead>\n",
       "  <tbody>\n",
       "    <tr>\n",
       "      <th>84081</th>\n",
       "      <td>598029</td>\n",
       "      <td>2013</td>\n",
       "      <td>2013-04-24</td>\n",
       "      <td>Eden Gardens</td>\n",
       "      <td>1</td>\n",
       "      <td>10.6</td>\n",
       "      <td>Kolkata Knight Riders</td>\n",
       "      <td>Mumbai Indians</td>\n",
       "      <td>JH Kallis</td>\n",
       "      <td>MK Tiwary</td>\n",
       "      <td>YS Chahal</td>\n",
       "      <td>1</td>\n",
       "      <td>0</td>\n",
       "      <td>NaN</td>\n",
       "      <td>NaN</td>\n",
       "      <td>NaN</td>\n",
       "      <td>NaN</td>\n",
       "      <td>NaN</td>\n",
       "      <td>NaN</td>\n",
       "      <td>NaN</td>\n",
       "      <td>NaN</td>\n",
       "      <td>NaN</td>\n",
       "    </tr>\n",
       "    <tr>\n",
       "      <th>84086</th>\n",
       "      <td>598029</td>\n",
       "      <td>2013</td>\n",
       "      <td>2013-04-24</td>\n",
       "      <td>Eden Gardens</td>\n",
       "      <td>1</td>\n",
       "      <td>10.4</td>\n",
       "      <td>Kolkata Knight Riders</td>\n",
       "      <td>Mumbai Indians</td>\n",
       "      <td>MK Tiwary</td>\n",
       "      <td>JH Kallis</td>\n",
       "      <td>YS Chahal</td>\n",
       "      <td>1</td>\n",
       "      <td>0</td>\n",
       "      <td>NaN</td>\n",
       "      <td>NaN</td>\n",
       "      <td>NaN</td>\n",
       "      <td>NaN</td>\n",
       "      <td>NaN</td>\n",
       "      <td>NaN</td>\n",
       "      <td>NaN</td>\n",
       "      <td>NaN</td>\n",
       "      <td>NaN</td>\n",
       "    </tr>\n",
       "    <tr>\n",
       "      <th>84087</th>\n",
       "      <td>598029</td>\n",
       "      <td>2013</td>\n",
       "      <td>2013-04-24</td>\n",
       "      <td>Eden Gardens</td>\n",
       "      <td>1</td>\n",
       "      <td>10.3</td>\n",
       "      <td>Kolkata Knight Riders</td>\n",
       "      <td>Mumbai Indians</td>\n",
       "      <td>JH Kallis</td>\n",
       "      <td>MK Tiwary</td>\n",
       "      <td>YS Chahal</td>\n",
       "      <td>1</td>\n",
       "      <td>0</td>\n",
       "      <td>NaN</td>\n",
       "      <td>NaN</td>\n",
       "      <td>NaN</td>\n",
       "      <td>NaN</td>\n",
       "      <td>NaN</td>\n",
       "      <td>NaN</td>\n",
       "      <td>NaN</td>\n",
       "      <td>NaN</td>\n",
       "      <td>NaN</td>\n",
       "    </tr>\n",
       "    <tr>\n",
       "      <th>84088</th>\n",
       "      <td>598029</td>\n",
       "      <td>2013</td>\n",
       "      <td>2013-04-24</td>\n",
       "      <td>Eden Gardens</td>\n",
       "      <td>1</td>\n",
       "      <td>10.2</td>\n",
       "      <td>Kolkata Knight Riders</td>\n",
       "      <td>Mumbai Indians</td>\n",
       "      <td>JH Kallis</td>\n",
       "      <td>MK Tiwary</td>\n",
       "      <td>YS Chahal</td>\n",
       "      <td>2</td>\n",
       "      <td>0</td>\n",
       "      <td>NaN</td>\n",
       "      <td>NaN</td>\n",
       "      <td>NaN</td>\n",
       "      <td>NaN</td>\n",
       "      <td>NaN</td>\n",
       "      <td>NaN</td>\n",
       "      <td>NaN</td>\n",
       "      <td>NaN</td>\n",
       "      <td>NaN</td>\n",
       "    </tr>\n",
       "    <tr>\n",
       "      <th>84089</th>\n",
       "      <td>598029</td>\n",
       "      <td>2013</td>\n",
       "      <td>2013-04-24</td>\n",
       "      <td>Eden Gardens</td>\n",
       "      <td>1</td>\n",
       "      <td>10.1</td>\n",
       "      <td>Kolkata Knight Riders</td>\n",
       "      <td>Mumbai Indians</td>\n",
       "      <td>JH Kallis</td>\n",
       "      <td>MK Tiwary</td>\n",
       "      <td>YS Chahal</td>\n",
       "      <td>2</td>\n",
       "      <td>0</td>\n",
       "      <td>NaN</td>\n",
       "      <td>NaN</td>\n",
       "      <td>NaN</td>\n",
       "      <td>NaN</td>\n",
       "      <td>NaN</td>\n",
       "      <td>NaN</td>\n",
       "      <td>NaN</td>\n",
       "      <td>NaN</td>\n",
       "      <td>NaN</td>\n",
       "    </tr>\n",
       "  </tbody>\n",
       "</table>\n",
       "</div>"
      ],
      "text/plain": [
       "       match_id  season  start_date         venue  innings  ball           batting_team    bowling_team    striker non_striker     bowler  runs_off_bat  extras  wides  noballs  byes  legbyes  penalty wicket_type player_dismissed  other_wicket_type  other_player_dismissed\n",
       "84081  598029    2013    2013-04-24  Eden Gardens  1        10.6  Kolkata Knight Riders  Mumbai Indians  JH Kallis  MK Tiwary   YS Chahal  1             0      NaN    NaN      NaN   NaN      NaN       NaN         NaN             NaN                NaN                    \n",
       "84086  598029    2013    2013-04-24  Eden Gardens  1        10.4  Kolkata Knight Riders  Mumbai Indians  MK Tiwary  JH Kallis   YS Chahal  1             0      NaN    NaN      NaN   NaN      NaN       NaN         NaN             NaN                NaN                    \n",
       "84087  598029    2013    2013-04-24  Eden Gardens  1        10.3  Kolkata Knight Riders  Mumbai Indians  JH Kallis  MK Tiwary   YS Chahal  1             0      NaN    NaN      NaN   NaN      NaN       NaN         NaN             NaN                NaN                    \n",
       "84088  598029    2013    2013-04-24  Eden Gardens  1        10.2  Kolkata Knight Riders  Mumbai Indians  JH Kallis  MK Tiwary   YS Chahal  2             0      NaN    NaN      NaN   NaN      NaN       NaN         NaN             NaN                NaN                    \n",
       "84089  598029    2013    2013-04-24  Eden Gardens  1        10.1  Kolkata Knight Riders  Mumbai Indians  JH Kallis  MK Tiwary   YS Chahal  2             0      NaN    NaN      NaN   NaN      NaN       NaN         NaN             NaN                NaN                    "
      ]
     },
     "execution_count": 17,
     "metadata": {},
     "output_type": "execute_result"
    }
   ],
   "source": [
    "blee.head(5)"
   ]
  },
  {
   "cell_type": "code",
   "execution_count": 18,
   "id": "4e49a21d",
   "metadata": {},
   "outputs": [],
   "source": [
    "b1=pd.DataFrame(blee.groupby('striker')['runs_off_bat'].sum()).reset_index()"
   ]
  },
  {
   "cell_type": "code",
   "execution_count": 19,
   "id": "604ceb5e",
   "metadata": {},
   "outputs": [],
   "source": [
    "b2=pd.DataFrame(blee.groupby('striker')['ball'].count()).reset_index()"
   ]
  },
  {
   "cell_type": "code",
   "execution_count": 20,
   "id": "72ee8a12",
   "metadata": {},
   "outputs": [
    {
     "data": {
      "text/html": [
       "<div>\n",
       "<style scoped>\n",
       "    .dataframe tbody tr th:only-of-type {\n",
       "        vertical-align: middle;\n",
       "    }\n",
       "\n",
       "    .dataframe tbody tr th {\n",
       "        vertical-align: top;\n",
       "    }\n",
       "\n",
       "    .dataframe thead th {\n",
       "        text-align: right;\n",
       "    }\n",
       "</style>\n",
       "<table border=\"1\" class=\"dataframe\">\n",
       "  <thead>\n",
       "    <tr style=\"text-align: right;\">\n",
       "      <th></th>\n",
       "      <th>striker</th>\n",
       "      <th>runs_off_bat</th>\n",
       "    </tr>\n",
       "  </thead>\n",
       "  <tbody>\n",
       "    <tr>\n",
       "      <th>0</th>\n",
       "      <td>A Ashish Reddy</td>\n",
       "      <td>13</td>\n",
       "    </tr>\n",
       "    <tr>\n",
       "      <th>1</th>\n",
       "      <td>AD Hales</td>\n",
       "      <td>6</td>\n",
       "    </tr>\n",
       "    <tr>\n",
       "      <th>2</th>\n",
       "      <td>AD Nath</td>\n",
       "      <td>1</td>\n",
       "    </tr>\n",
       "    <tr>\n",
       "      <th>3</th>\n",
       "      <td>AD Russell</td>\n",
       "      <td>80</td>\n",
       "    </tr>\n",
       "    <tr>\n",
       "      <th>4</th>\n",
       "      <td>AJ Finch</td>\n",
       "      <td>32</td>\n",
       "    </tr>\n",
       "  </tbody>\n",
       "</table>\n",
       "</div>"
      ],
      "text/plain": [
       "          striker  runs_off_bat\n",
       "0  A Ashish Reddy  13          \n",
       "1  AD Hales        6           \n",
       "2  AD Nath         1           \n",
       "3  AD Russell      80          \n",
       "4  AJ Finch        32          "
      ]
     },
     "execution_count": 20,
     "metadata": {},
     "output_type": "execute_result"
    }
   ],
   "source": [
    "b1.head()"
   ]
  },
  {
   "cell_type": "code",
   "execution_count": 21,
   "id": "96ddcf34",
   "metadata": {},
   "outputs": [],
   "source": [
    "b3=b1.merge(b2, on = 'striker', how = 'left')"
   ]
  },
  {
   "cell_type": "code",
   "execution_count": 22,
   "id": "67e0f151",
   "metadata": {},
   "outputs": [
    {
     "data": {
      "text/html": [
       "<div>\n",
       "<style scoped>\n",
       "    .dataframe tbody tr th:only-of-type {\n",
       "        vertical-align: middle;\n",
       "    }\n",
       "\n",
       "    .dataframe tbody tr th {\n",
       "        vertical-align: top;\n",
       "    }\n",
       "\n",
       "    .dataframe thead th {\n",
       "        text-align: right;\n",
       "    }\n",
       "</style>\n",
       "<table border=\"1\" class=\"dataframe\">\n",
       "  <thead>\n",
       "    <tr style=\"text-align: right;\">\n",
       "      <th></th>\n",
       "      <th>striker</th>\n",
       "      <th>runs_off_bat</th>\n",
       "      <th>ball</th>\n",
       "    </tr>\n",
       "  </thead>\n",
       "  <tbody>\n",
       "    <tr>\n",
       "      <th>0</th>\n",
       "      <td>A Ashish Reddy</td>\n",
       "      <td>13</td>\n",
       "      <td>7</td>\n",
       "    </tr>\n",
       "    <tr>\n",
       "      <th>1</th>\n",
       "      <td>AD Hales</td>\n",
       "      <td>6</td>\n",
       "      <td>6</td>\n",
       "    </tr>\n",
       "    <tr>\n",
       "      <th>2</th>\n",
       "      <td>AD Nath</td>\n",
       "      <td>1</td>\n",
       "      <td>3</td>\n",
       "    </tr>\n",
       "    <tr>\n",
       "      <th>3</th>\n",
       "      <td>AD Russell</td>\n",
       "      <td>80</td>\n",
       "      <td>41</td>\n",
       "    </tr>\n",
       "    <tr>\n",
       "      <th>4</th>\n",
       "      <td>AJ Finch</td>\n",
       "      <td>32</td>\n",
       "      <td>31</td>\n",
       "    </tr>\n",
       "  </tbody>\n",
       "</table>\n",
       "</div>"
      ],
      "text/plain": [
       "          striker  runs_off_bat  ball\n",
       "0  A Ashish Reddy  13            7   \n",
       "1  AD Hales        6             6   \n",
       "2  AD Nath         1             3   \n",
       "3  AD Russell      80            41  \n",
       "4  AJ Finch        32            31  "
      ]
     },
     "execution_count": 22,
     "metadata": {},
     "output_type": "execute_result"
    }
   ],
   "source": [
    "b3.head()"
   ]
  },
  {
   "cell_type": "code",
   "execution_count": 23,
   "id": "f7fff715",
   "metadata": {},
   "outputs": [],
   "source": [
    "b3['strike_rate']=100*(b3['runs_off_bat']/b3['ball'])"
   ]
  },
  {
   "cell_type": "code",
   "execution_count": 24,
   "id": "be9ce9a6",
   "metadata": {},
   "outputs": [
    {
     "data": {
      "text/html": [
       "<div>\n",
       "<style scoped>\n",
       "    .dataframe tbody tr th:only-of-type {\n",
       "        vertical-align: middle;\n",
       "    }\n",
       "\n",
       "    .dataframe tbody tr th {\n",
       "        vertical-align: top;\n",
       "    }\n",
       "\n",
       "    .dataframe thead th {\n",
       "        text-align: right;\n",
       "    }\n",
       "</style>\n",
       "<table border=\"1\" class=\"dataframe\">\n",
       "  <thead>\n",
       "    <tr style=\"text-align: right;\">\n",
       "      <th></th>\n",
       "      <th>striker</th>\n",
       "      <th>runs_off_bat</th>\n",
       "      <th>ball</th>\n",
       "      <th>strike_rate</th>\n",
       "    </tr>\n",
       "  </thead>\n",
       "  <tbody>\n",
       "    <tr>\n",
       "      <th>0</th>\n",
       "      <td>A Ashish Reddy</td>\n",
       "      <td>13</td>\n",
       "      <td>7</td>\n",
       "      <td>185.714286</td>\n",
       "    </tr>\n",
       "    <tr>\n",
       "      <th>1</th>\n",
       "      <td>AD Hales</td>\n",
       "      <td>6</td>\n",
       "      <td>6</td>\n",
       "      <td>100.000000</td>\n",
       "    </tr>\n",
       "    <tr>\n",
       "      <th>2</th>\n",
       "      <td>AD Nath</td>\n",
       "      <td>1</td>\n",
       "      <td>3</td>\n",
       "      <td>33.333333</td>\n",
       "    </tr>\n",
       "    <tr>\n",
       "      <th>3</th>\n",
       "      <td>AD Russell</td>\n",
       "      <td>80</td>\n",
       "      <td>41</td>\n",
       "      <td>195.121951</td>\n",
       "    </tr>\n",
       "    <tr>\n",
       "      <th>4</th>\n",
       "      <td>AJ Finch</td>\n",
       "      <td>32</td>\n",
       "      <td>31</td>\n",
       "      <td>103.225806</td>\n",
       "    </tr>\n",
       "  </tbody>\n",
       "</table>\n",
       "</div>"
      ],
      "text/plain": [
       "          striker  runs_off_bat  ball  strike_rate\n",
       "0  A Ashish Reddy  13            7     185.714286 \n",
       "1  AD Hales        6             6     100.000000 \n",
       "2  AD Nath         1             3     33.333333  \n",
       "3  AD Russell      80            41    195.121951 \n",
       "4  AJ Finch        32            31    103.225806 "
      ]
     },
     "execution_count": 24,
     "metadata": {},
     "output_type": "execute_result"
    }
   ],
   "source": [
    "b3.head()"
   ]
  },
  {
   "cell_type": "code",
   "execution_count": 25,
   "id": "ca058645",
   "metadata": {},
   "outputs": [],
   "source": [
    "b3=b3[b3.ball>10]"
   ]
  },
  {
   "cell_type": "code",
   "execution_count": 26,
   "id": "f54d7ded",
   "metadata": {},
   "outputs": [],
   "source": [
    "sr=df[df.striker=='SR Tendulkar']"
   ]
  },
  {
   "cell_type": "code",
   "execution_count": 27,
   "id": "f0fd2636",
   "metadata": {},
   "outputs": [],
   "source": [
    "s1=pd.DataFrame(sr.groupby('bowler')['runs_off_bat'].sum()).reset_index()\n",
    "s2=pd.DataFrame(sr.groupby('bowler')['ball'].count()).reset_index()"
   ]
  },
  {
   "cell_type": "code",
   "execution_count": 28,
   "id": "b65834fb",
   "metadata": {},
   "outputs": [],
   "source": [
    "s3=s1.merge(s2, on = 'bowler', how = 'left')"
   ]
  },
  {
   "cell_type": "code",
   "execution_count": 29,
   "id": "6ff63b90",
   "metadata": {},
   "outputs": [],
   "source": [
    "s3['strike_rate']=100*(s3['runs_off_bat']/s3['ball'])"
   ]
  },
  {
   "cell_type": "code",
   "execution_count": 30,
   "id": "034f3b79",
   "metadata": {},
   "outputs": [],
   "source": [
    "s3=s3[s3.ball>20]"
   ]
  },
  {
   "cell_type": "code",
   "execution_count": 31,
   "id": "e0918efc",
   "metadata": {},
   "outputs": [],
   "source": [
    "s3.reset_index(inplace=True, drop= True)\n",
    "b3.reset_index(inplace=True, drop= True)"
   ]
  },
  {
   "cell_type": "code",
   "execution_count": 32,
   "id": "30abc3fa",
   "metadata": {},
   "outputs": [],
   "source": [
    "#s3.sort_values('strike_rate',ascending=False)"
   ]
  },
  {
   "cell_type": "code",
   "execution_count": 33,
   "id": "f63e488e",
   "metadata": {},
   "outputs": [],
   "source": [
    "#b3.sort_values('strike_rate',ascending=False)"
   ]
  },
  {
   "cell_type": "code",
   "execution_count": 34,
   "id": "d8f0fdb9",
   "metadata": {},
   "outputs": [
    {
     "data": {
      "image/png": "[encoded data removed]",
      "text/plain": [
       "<Figure size 1152x576 with 1 Axes>"
      ]
     },
     "metadata": {
      "needs_background": "light"
     },
     "output_type": "display_data"
    }
   ],
   "source": [
    "plt.figure(figsize=(16,8))\n",
    "plt.scatter(b3.strike_rate, b3.runs_off_bat)\n",
    "for i in range(len(b3)):\n",
    "    #plt.text(x,y,text)\n",
    "    if b3['strike_rate'][i]>135 and b3['runs_off_bat'][i]>25 :\n",
    "            plt.text(b3['strike_rate'][i],b3['runs_off_bat'][i]-2,b3['striker'][i])\n",
    "\n",
    "    \n",
    "plt.title(\"Batsman against B Lee (min 10 balls faced)\")\n",
    "plt.axvline(135,ls='--',color=\"red\")\n",
    "plt.axhline(25,ls='--',color=\"grey\")\n",
    "plt.xlabel(\"Strike Rate\")\n",
    "plt.ylabel(\"Runs\")\n",
    "plt.show()"
   ]
  },
  {
   "cell_type": "code",
   "execution_count": 35,
   "id": "3f5486e3",
   "metadata": {},
   "outputs": [
    {
     "data": {
      "image/png": "[encoded data removed]",
      "text/plain": [
       "<Figure size 1152x576 with 1 Axes>"
      ]
     },
     "metadata": {
      "needs_background": "light"
     },
     "output_type": "display_data"
    }
   ],
   "source": [
    "plt.figure(figsize=(16,8))\n",
    "plt.scatter(s3.strike_rate, s3.runs_off_bat)\n",
    "for i in range(len(s3)):\n",
    "    #plt.text(x,y,text)\n",
    "    if s3['strike_rate'][i]>120 and s3['runs_off_bat'][i]>40 :\n",
    "        plt.text(s3['strike_rate'][i],s3['runs_off_bat'][i]-2,s3['bowler'][i])\n",
    "plt.title(\"Sachin's favourite Bowlers\")\n",
    "plt.axvline(120,ls='--',color=\"red\")\n",
    "plt.axhline(40,ls='--',color=\"grey\")\n",
    "plt.xlabel(\"Strike Rate\")\n",
    "plt.ylabel(\"Runs\")\n",
    "plt.show()"
   ]
  },
  {
   "cell_type": "code",
   "execution_count": null,
   "id": "7488f2b7",
   "metadata": {},
   "outputs": [],
   "source": []
  },
  {
   "cell_type": "code",
   "execution_count": null,
   "id": "986a9884",
   "metadata": {},
   "outputs": [],
   "source": []
  }
 ],
 "metadata": {
  "kernelspec": {
   "display_name": "Python 3 (ipykernel)",
   "language": "python",
   "name": "python3"
  },
  "language_info": {
   "codemirror_mode": {
    "name": "ipython",
    "version": 3
   },
   "file_extension": ".py",
   "mimetype": "text/x-python",
   "name": "python",
   "nbconvert_exporter": "python",
   "pygments_lexer": "ipython3",
   "version": "3.9.7"
  }
 },
 "nbformat": 4,
 "nbformat_minor": 5
}
